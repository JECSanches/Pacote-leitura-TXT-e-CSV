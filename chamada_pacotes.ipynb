{
 "cells": [
  {
   "cell_type": "markdown",
   "metadata": {},
   "source": [
    "## **Chamada do pacote com os arquivos de leitura.**"
   ]
  },
  {
   "cell_type": "code",
   "execution_count": 1,
   "metadata": {},
   "outputs": [],
   "source": [
    "from package.arquivo_csv import ArquivoCSV\n",
    "from package.arquivo_txt import ArquivoTXT"
   ]
  },
  {
   "cell_type": "code",
   "execution_count": 2,
   "metadata": {},
   "outputs": [],
   "source": [
    "# Usando arquivos anexados como exemplo.\n",
    "noticia = ArquivoTXT(arquivo=\"noticia.txt\")\n",
    "banco = ArquivoCSV(arquivo='banco.csv')"
   ]
  },
  {
   "cell_type": "code",
   "execution_count": 3,
   "metadata": {},
   "outputs": [
    {
     "data": {
      "text/plain": [
       "['Egito cobra quase US$ 1 bi para liberar navio que bloqueou Canal de Suez\\n',\n",
       " 'Segundo autoridades, valor será utilizado para recompor as perdas provocados pelo encalhamento da embarcação de quase 400 metros\\n']"
      ]
     },
     "execution_count": 3,
     "metadata": {},
     "output_type": "execute_result"
    }
   ],
   "source": [
    "noticia.conteudo"
   ]
  },
  {
   "cell_type": "code",
   "execution_count": 4,
   "metadata": {},
   "outputs": [
    {
     "data": {
      "text/plain": [
       "['age,job,marital,education,default,balance,housing,loan\\n',\n",
       " '30,unemployed,married,primary,no,1787,no,no\\n',\n",
       " '33,services,married,secondary,no,4789,yes,yes\\n',\n",
       " '35,management,single,tertiary,no,1350,yes,no\\n',\n",
       " '30,management,married,tertiary,no,1476,yes,yes\\n',\n",
       " '59,blue-collar,married,secondary,no,0,yes,no\\n',\n",
       " '35,management,single,tertiary,no,747,no,no\\n',\n",
       " '36,self-employed,married,tertiary,no,307,yes,no\\n',\n",
       " '39,technician,married,secondary,no,147,yes,no\\n',\n",
       " '41,entrepreneur,married,tertiary,no,221,yes,no\\n',\n",
       " '43,services,married,primary,no,-88,yes,yes\\n']"
      ]
     },
     "execution_count": 4,
     "metadata": {},
     "output_type": "execute_result"
    }
   ],
   "source": [
    "banco.conteudo"
   ]
  },
  {
   "cell_type": "code",
   "execution_count": 5,
   "metadata": {},
   "outputs": [
    {
     "data": {
      "text/plain": [
       "['age', 'job', 'marital', 'education', 'default', 'balance', 'housing', 'loan']"
      ]
     },
     "execution_count": 5,
     "metadata": {},
     "output_type": "execute_result"
    }
   ],
   "source": [
    "banco.colunas"
   ]
  },
  {
   "cell_type": "code",
   "execution_count": null,
   "metadata": {},
   "outputs": [],
   "source": []
  }
 ],
 "metadata": {
  "kernelspec": {
   "display_name": "Python 3",
   "language": "python",
   "name": "python3"
  },
  "language_info": {
   "codemirror_mode": {
    "name": "ipython",
    "version": 3
   },
   "file_extension": ".py",
   "mimetype": "text/x-python",
   "name": "python",
   "nbconvert_exporter": "python",
   "pygments_lexer": "ipython3",
   "version": "3.12.3"
  }
 },
 "nbformat": 4,
 "nbformat_minor": 2
}
